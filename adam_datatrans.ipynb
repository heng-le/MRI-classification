{
 "cells": [
  {
   "cell_type": "code",
   "execution_count": 2,
   "metadata": {},
   "outputs": [
    {
     "name": "stdout",
     "output_type": "stream",
     "text": [
      "./archive_new/Training\n",
      "./archive_new/Testing\n",
      "Number of duplicates removed: 0\n"
     ]
    }
   ],
   "source": [
    "import os\n",
    "import hashlib\n",
    "\n",
    "def compute_hash(file):\n",
    "    hasher = hashlib.md5()\n",
    "    with open(file, 'rb') as f:\n",
    "        buf = f.read()\n",
    "        hasher.update(buf)\n",
    "    return hasher.hexdigest()\n",
    "\n",
    "def list_files(datadir, hash_dict):\n",
    "    for data_type in ['Training', 'Testing']:\n",
    "        data_type_path = os.path.join(datadir, data_type)\n",
    "        print(data_type_path)\n",
    "        if os.path.exists(data_type_path):\n",
    "            labels = [d for d in os.listdir(data_type_path) if os.path.isdir(os.path.join(data_type_path, d))]\n",
    "            for label in labels:\n",
    "                folder_path = os.path.join(data_type_path, label)\n",
    "                for root, dirs, files in os.walk(folder_path):\n",
    "                    for file in files:\n",
    "                        if file.endswith(\".jpg\"):\n",
    "                            file_path = os.path.join(root, file)\n",
    "                            file_hash = compute_hash(file_path)\n",
    "                            if file_hash in hash_dict:\n",
    "                                hash_dict[file_hash].append(file_path)\n",
    "                            else:\n",
    "                                hash_dict[file_hash] = [file_path]\n",
    "\n",
    "def remove_duplicates(hash_dict):\n",
    "    duplicate_count = 0\n",
    "    for hash_value, file_paths in hash_dict.items():\n",
    "        if len(file_paths) > 1:\n",
    "            for file_path in file_paths[1:]:\n",
    "                print(f\"Removing duplicate (hash: {hash_value}): {file_path}\")\n",
    "                os.remove(file_path)\n",
    "                duplicate_count += 1\n",
    "    print(f\"Number of duplicates removed: {duplicate_count}\")\n",
    "\n",
    "\n",
    "datadir = \"./archive_new/\"\n",
    "hash_dict = {}\n",
    "list_files(datadir, hash_dict)\n",
    "remove_duplicates(hash_dict)\n"
   ]
  },
  {
   "cell_type": "code",
   "execution_count": 3,
   "metadata": {},
   "outputs": [
    {
     "name": "stdout",
     "output_type": "stream",
     "text": [
      "./archive_new/Training\n",
      "notumor: 1422\n",
      "pituitary: 1445\n",
      "meningioma: 1333\n",
      "glioma: 1321\n",
      "./archive_new/Testing\n",
      "notumor: 309\n",
      "pituitary: 295\n",
      "meningioma: 302\n",
      "glioma: 299\n"
     ]
    }
   ],
   "source": [
    "# we have removed duplicates from the dataset, we should check the distribution of the dataset\n",
    "# and make sure that the dataset is balanced\n",
    "\n",
    "def check_distribution(datadir):\n",
    "    for data_type in ['Training', 'Testing']:\n",
    "        data_type_path = os.path.join(datadir, data_type)\n",
    "        print(data_type_path)\n",
    "        if os.path.exists(data_type_path):\n",
    "            labels = [d for d in os.listdir(data_type_path) if os.path.isdir(os.path.join(data_type_path, d))]\n",
    "            for label in labels:\n",
    "                folder_path = os.path.join(data_type_path, label)\n",
    "                num_files = len([f for f in os.listdir(folder_path) if f.endswith(\".jpg\")])\n",
    "                print(f\"{label}: {num_files}\")\n",
    "\n",
    "check_distribution(datadir)"
   ]
  },
  {
   "cell_type": "markdown",
   "metadata": {},
   "source": [
    "seems like we're good to go"
   ]
  },
  {
   "cell_type": "code",
   "execution_count": 1,
   "metadata": {},
   "outputs": [],
   "source": [
    "# import the necessary libraries\n",
    "import numpy as np\n",
    "import torch\n",
    "from torch import nn, optim\n",
    "from torch.utils.data import Dataset\n",
    "\n",
    "# import dataloader class\n",
    "from torch.utils.data import DataLoader\n",
    "from torchvision import datasets\n",
    "from torchvision import transforms\n",
    "from torchvision.models import efficientnet_b0\n",
    "\n",
    "# import visualisation tool\n",
    "import matplotlib.pyplot as plt\n",
    "import seaborn as sns\n",
    "\n",
    "# import time to time the training\n",
    "import time\n",
    "\n",
    "import os\n",
    "os.environ['PYTORCH_CUDA_ALLOC_CONF'] = 'expandable_segments:True'"
   ]
  },
  {
   "cell_type": "code",
   "execution_count": 2,
   "metadata": {},
   "outputs": [
    {
     "data": {
      "text/plain": [
       "True"
      ]
     },
     "execution_count": 2,
     "metadata": {},
     "output_type": "execute_result"
    }
   ],
   "source": [
    "torch.cuda.is_available()"
   ]
  },
  {
   "cell_type": "code",
   "execution_count": 2,
   "metadata": {},
   "outputs": [],
   "source": [
    "# load in the data\n",
    "data_dir = \"./archive_new/\"\n",
    "train_dir = data_dir + 'Training'\n",
    "test_dir = data_dir + 'Testing'\n",
    "\n",
    "# define the transforms for the training and testing data\n",
    "data_transforms = transforms.Compose([transforms.Resize((256, 256)), transforms.ToTensor()])\n",
    "\n",
    "# load the data\n",
    "train_data = datasets.ImageFolder(train_dir, transform=data_transforms)\n",
    "test_data = datasets.ImageFolder(test_dir, transform=data_transforms)\n",
    "\n",
    "# define the dataloaders\n",
    "train_loader = DataLoader(train_data, batch_size=32, shuffle=True)\n",
    "test_loader = DataLoader(test_data, batch_size=32, shuffle=True)"
   ]
  },
  {
   "cell_type": "code",
   "execution_count": 3,
   "metadata": {},
   "outputs": [
    {
     "name": "stdout",
     "output_type": "stream",
     "text": [
      "Training on GPU, moving data to GPU...\n"
     ]
    }
   ],
   "source": [
    "if torch.cuda.is_available():\n",
    "    print(\"Training on GPU, moving data to GPU...\")\n",
    "    device = torch.device('cuda')\n",
    "    train_loader_gpu = [(data.to(device), target.to(device)) for data, target in train_loader]\n",
    "    # test_loader_gpu = [(data.to(device), target.to(device)) for data, target in test_loader]"
   ]
  },
  {
   "cell_type": "code",
   "execution_count": 8,
   "metadata": {},
   "outputs": [],
   "source": [
    "# load in the pretrained model\n",
    "model_pretrained = efficientnet_b0(weights='EfficientNet_B0_Weights.DEFAULT')\n",
    "\n",
    "# freeze the weights of the model\n",
    "for param in model_pretrained.parameters():\n",
    "    param.requires_grad = False\n",
    "\n",
    "# unfreeze the last layer\n",
    "for param in model_pretrained.classifier.parameters():\n",
    "    param.requires_grad = True\n",
    "\n",
    "# define the new classifier\n",
    "model_pretrained.classifier = nn.Sequential(\n",
    "    nn.Linear(1280, 512),\n",
    "    nn.ReLU(),\n",
    "    nn.Dropout(0.5),\n",
    "    nn.Linear(512, 4),\n",
    "    nn.LogSoftmax(dim=1)\n",
    ")\n",
    "\n",
    "# define the loss function and the optimizer\n",
    "criterion = nn.CrossEntropyLoss()\n",
    "optimizer = optim.Adam(model_pretrained.parameters(), lr=0.001)"
   ]
  },
  {
   "cell_type": "code",
   "execution_count": 9,
   "metadata": {},
   "outputs": [
    {
     "name": "stderr",
     "output_type": "stream",
     "text": [
      "/home/adam/.conda/envs/torch/lib/python3.12/site-packages/torch/nn/modules/conv.py:456: UserWarning: Applied workaround for CuDNN issue, install nvrtc.so (Triggered internally at /opt/conda/conda-bld/pytorch_1708025824022/work/aten/src/ATen/native/cudnn/Conv_v8.cpp:80.)\n",
      "  return F.conv2d(input, weight, bias, self.stride,\n"
     ]
    },
    {
     "name": "stdout",
     "output_type": "stream",
     "text": [
      "Epoch 1, Loss: 0.33709168434143066 performed in 9.380393743515015 seconds\n",
      "Epoch 2, Loss: 0.4960719347000122 performed in 9.141579866409302 seconds\n",
      "Epoch 3, Loss: 0.11000063270330429 performed in 9.954923152923584 seconds\n",
      "Epoch 4, Loss: 0.06429319083690643 performed in 10.7223060131073 seconds\n",
      "Epoch 5, Loss: 0.08843201398849487 performed in 10.748022317886353 seconds\n",
      "Epoch 6, Loss: 0.07383351027965546 performed in 10.748276233673096 seconds\n",
      "Epoch 7, Loss: 0.046386364847421646 performed in 10.746000289916992 seconds\n",
      "Epoch 8, Loss: 0.12887144088745117 performed in 10.745153903961182 seconds\n",
      "Epoch 9, Loss: 0.015702249482274055 performed in 10.74558973312378 seconds\n",
      "Epoch 10, Loss: 0.0231036264449358 performed in 10.742873191833496 seconds\n",
      "Training performed in 103.67584490776062 seconds\n"
     ]
    }
   ],
   "source": [
    "# train the model for 10 epochs\n",
    "epochs = 10\n",
    "start = time.time()\n",
    "train_start = start\n",
    "train_loc = train_loader_gpu if torch.cuda.is_available() else train_loader\n",
    "if torch.cuda.is_available():\n",
    "    model_pretrained.to(device)\n",
    "    \n",
    "for epoch in range(epochs):\n",
    "    model_pretrained.train()\n",
    "    running_loss = 0.0\n",
    "    for data, target in train_loc:\n",
    "        optimizer.zero_grad()\n",
    "        output = model_pretrained(data)\n",
    "        loss = criterion(output, target)\n",
    "        loss.backward()\n",
    "        optimizer.step()\n",
    "    print(f'Epoch {epoch + 1}, Loss: {loss.item()} performed in {time.time() - start} seconds')\n",
    "    start = time.time()\n",
    "print(f'Training performed in {time.time() - train_start} seconds')"
   ]
  },
  {
   "cell_type": "code",
   "execution_count": 10,
   "metadata": {},
   "outputs": [
    {
     "name": "stdout",
     "output_type": "stream",
     "text": [
      "Loss: 0.13109365821276842\n",
      "Accuracy: 0.9477178423236514\n"
     ]
    }
   ],
   "source": [
    "# evaluate the model with loss and accuracy\n",
    "model_pretrained.eval()\n",
    "correct = 0\n",
    "total = 0\n",
    "loss = 0\n",
    "\n",
    "test_temp = test_loader_gpu if torch.cuda.is_available() else test_loader\n",
    "with torch.no_grad():\n",
    "    for data, target in test_temp:\n",
    "        output = model_pretrained(data)\n",
    "        loss += criterion(output, target).item()\n",
    "        _, predicted = torch.max(output, 1)\n",
    "        total += target.size(0)\n",
    "        correct += (predicted == target).sum().item()\n",
    "print(f'Loss: {loss / len(test_loader)}')\n",
    "print(f'Accuracy: {correct / total}')"
   ]
  },
  {
   "cell_type": "code",
   "execution_count": 11,
   "metadata": {},
   "outputs": [
    {
     "data": {
      "text/plain": [
       "Text(50.72222222222221, 0.5, 'Actual')"
      ]
     },
     "execution_count": 11,
     "metadata": {},
     "output_type": "execute_result"
    },
    {
     "data": {
      "image/png": "[encoded data removed]",
      "text/plain": [
       "<Figure size 640x480 with 2 Axes>"
      ]
     },
     "metadata": {},
     "output_type": "display_data"
    }
   ],
   "source": [
    "# plot the confusion matrix\n",
    "confusion_matrix = torch.zeros(4, 4)\n",
    "with torch.no_grad():\n",
    "    for data, target in test_loader_gpu:\n",
    "        output = model_pretrained(data)\n",
    "        _, predicted = torch.max(output, 1)\n",
    "        for t, p in zip(target.view(-1), predicted.view(-1)):\n",
    "            confusion_matrix[t.long(), p.long()] += 1\n",
    "classes = ['glioma', 'meningioma', 'no_tumor', 'pituitary']\n",
    "sns.heatmap(confusion_matrix, annot=True, fmt='g', xticklabels=classes, yticklabels=classes)\n",
    "\n",
    "# set axis labels\n",
    "plt.xlabel('Predicted')\n",
    "plt.ylabel('Actual')"
   ]
  },
  {
   "cell_type": "code",
   "execution_count": 12,
   "metadata": {},
   "outputs": [],
   "source": [
    "# save the model\n",
    "torch.save(model_pretrained.state_dict(), 'model_effnetb0.pth')\n",
    "\n",
    "# save the model class\n",
    "torch.save(model_pretrained, 'model_effnetb0_class.pth')"
   ]
  },
  {
   "cell_type": "code",
   "execution_count": 13,
   "metadata": {},
   "outputs": [
    {
     "name": "stdout",
     "output_type": "stream",
     "text": [
      "              precision    recall  f1-score   support\n",
      "\n",
      "      glioma       0.97      0.86      0.91       299\n",
      "  meningioma       0.87      0.94      0.90       302\n",
      "    no_tumor       0.99      1.00      0.99       309\n",
      "   pituitary       0.97      0.99      0.98       295\n",
      "\n",
      "    accuracy                           0.95      1205\n",
      "   macro avg       0.95      0.95      0.95      1205\n",
      "weighted avg       0.95      0.95      0.95      1205\n",
      "\n"
     ]
    }
   ],
   "source": [
    "from sklearn.metrics import classification_report\n",
    "\n",
    "# get the classification report\n",
    "y_true = []\n",
    "y_pred = []\n",
    "with torch.no_grad():\n",
    "    for data, target in test_loader_gpu:\n",
    "        output = model_pretrained(data)\n",
    "        _, predicted = torch.max(output, 1)\n",
    "        y_true.extend(target.cpu().numpy())\n",
    "        y_pred.extend(predicted.cpu().numpy())\n",
    "print(classification_report(y_true, y_pred, target_names=classes))"
   ]
  },
  {
   "cell_type": "code",
   "execution_count": 4,
   "metadata": {},
   "outputs": [],
   "source": [
    "# try again on a simple CNN\n",
    "\n",
    "# define the model\n",
    "model = nn.Sequential(\n",
    "    nn.Conv2d(3, 16, 3, padding=1),\n",
    "    nn.ReLU(),\n",
    "    nn.MaxPool2d(2, 2),\n",
    "    nn.Conv2d(16, 32, 3, padding=1),\n",
    "    nn.ReLU(),\n",
    "    nn.MaxPool2d(2, 2),\n",
    "    nn.Flatten(),\n",
    "    nn.Linear(128 * 32 * 32, 500),\n",
    "    nn.ReLU(),\n",
    "    nn.Linear(500, 4),\n",
    "    nn.LogSoftmax(dim=1)\n",
    ")\n",
    "\n",
    "# define the loss function and the optimizer\n",
    "criterion = nn.CrossEntropyLoss()\n",
    "optimizer = optim.Adam(model.parameters(), lr=0.001)\n",
    "\n",
    "if torch.cuda.is_available():\n",
    "    model.to(device)"
   ]
  },
  {
   "cell_type": "code",
   "execution_count": 5,
   "metadata": {},
   "outputs": [
    {
     "name": "stderr",
     "output_type": "stream",
     "text": [
      "/home/adam/.conda/envs/torch/lib/python3.12/site-packages/torch/nn/modules/conv.py:456: UserWarning: Applied workaround for CuDNN issue, install nvrtc.so (Triggered internally at /opt/conda/conda-bld/pytorch_1708025824022/work/aten/src/ATen/native/cudnn/Conv_v8.cpp:80.)\n",
      "  return F.conv2d(input, weight, bias, self.stride,\n"
     ]
    },
    {
     "name": "stdout",
     "output_type": "stream",
     "text": [
      "Epoch 1, Loss: 0.4671344459056854 performed in 8.833163738250732 seconds\n",
      "Epoch 2, Loss: 0.2510101795196533 performed in 9.587755918502808 seconds\n",
      "Epoch 3, Loss: 0.14480839669704437 performed in 9.87868857383728 seconds\n",
      "Epoch 4, Loss: 0.032033521682024 performed in 9.86344313621521 seconds\n",
      "Epoch 5, Loss: 0.05090349167585373 performed in 9.868990421295166 seconds\n",
      "Epoch 6, Loss: 0.008794909343123436 performed in 9.876316547393799 seconds\n",
      "Epoch 7, Loss: 0.007442107889801264 performed in 9.877366542816162 seconds\n",
      "Epoch 8, Loss: 0.02838791348040104 performed in 9.877375602722168 seconds\n",
      "Epoch 9, Loss: 0.0006604963564313948 performed in 9.873881816864014 seconds\n",
      "Epoch 10, Loss: 0.00011370704305591062 performed in 9.87374758720398 seconds\n",
      "Training performed in 97.4113917350769 seconds\n"
     ]
    }
   ],
   "source": [
    "# train the model for 10 epochs\n",
    "epochs = 10\n",
    "start = time.time()\n",
    "train_start = start\n",
    "train_loc = train_loader_gpu if torch.cuda.is_available() else train_loader\n",
    "for epoch in range(epochs):\n",
    "    model.train()\n",
    "    running_loss = 0.0\n",
    "    for data, target in train_loc:\n",
    "        optimizer.zero_grad()\n",
    "        output = model(data)\n",
    "        loss = criterion(output, target)\n",
    "        loss.backward()\n",
    "        optimizer.step()\n",
    "    print(f'Epoch {epoch + 1}, Loss: {loss.item()} performed in {time.time() - start} seconds')\n",
    "    start = time.time()\n",
    "print(f'Training performed in {time.time() - train_start} seconds')"
   ]
  },
  {
   "cell_type": "code",
   "execution_count": 6,
   "metadata": {},
   "outputs": [],
   "source": [
    "# save the model\n",
    "torch.save(model.state_dict(), 'model_cnn.pth')\n",
    "\n",
    "# save the model class\n",
    "torch.save(model, 'model_cnn_class.pth')"
   ]
  },
  {
   "cell_type": "code",
   "execution_count": 10,
   "metadata": {},
   "outputs": [
    {
     "name": "stdout",
     "output_type": "stream",
     "text": [
      "Loss: 0.23813987726737795\n",
      "Accuracy: 0.9518672199170124\n"
     ]
    }
   ],
   "source": [
    "# evaluate the model with loss and accuracy\n",
    "model.eval()\n",
    "model.cpu()\n",
    "correct = 0\n",
    "total = 0\n",
    "loss = 0\n",
    "with torch.no_grad():\n",
    "    for data, target in test_loader:\n",
    "        output = model(data)\n",
    "        loss += criterion(output, target).item()\n",
    "        _, predicted = torch.max(output, 1)\n",
    "        total += target.size(0)\n",
    "        correct += (predicted == target).sum().item()\n",
    "print(f'Loss: {loss / len(test_loader)}')\n",
    "print(f'Accuracy: {correct / total}')\n"
   ]
  },
  {
   "cell_type": "code",
   "execution_count": 11,
   "metadata": {},
   "outputs": [
    {
     "data": {
      "text/plain": [
       "<Axes: >"
      ]
     },
     "execution_count": 11,
     "metadata": {},
     "output_type": "execute_result"
    },
    {
     "data": {
      "image/png": "[encoded data removed]",
      "text/plain": [
       "<Figure size 640x480 with 2 Axes>"
      ]
     },
     "metadata": {},
     "output_type": "display_data"
    }
   ],
   "source": [
    "# confusion matrix\n",
    "confusion_matrix = torch.zeros(4, 4)\n",
    "with torch.no_grad():\n",
    "    for data, target in test_loader:\n",
    "        output = model(data)\n",
    "        _, predicted = torch.max(output, 1)\n",
    "        for t, p in zip(target.view(-1), predicted.view(-1)):\n",
    "            confusion_matrix[t.long(), p.long()] += 1\n",
    "classes = ['glioma', 'meningioma', 'no_tumor', 'pituitary']\n",
    "sns.heatmap(confusion_matrix, annot=True, fmt='g', xticklabels=classes, yticklabels=classes)\n"
   ]
  },
  {
   "cell_type": "code",
   "execution_count": 14,
   "metadata": {},
   "outputs": [
    {
     "name": "stdout",
     "output_type": "stream",
     "text": [
      "              precision    recall  f1-score   support\n",
      "\n",
      "      glioma       0.93      0.90      0.92       299\n",
      "  meningioma       0.90      0.91      0.90       302\n",
      "    no_tumor       0.98      1.00      0.99       309\n",
      "   pituitary       0.99      1.00      0.99       295\n",
      "\n",
      "    accuracy                           0.95      1205\n",
      "   macro avg       0.95      0.95      0.95      1205\n",
      "weighted avg       0.95      0.95      0.95      1205\n",
      "\n"
     ]
    }
   ],
   "source": [
    "from sklearn.metrics import classification_report\n",
    "\n",
    "# create classification report\n",
    "y_true = []\n",
    "y_pred = []\n",
    "with torch.no_grad():\n",
    "    for data, target in test_loader:\n",
    "        output = model(data)\n",
    "        _, predicted = torch.max(output, 1)\n",
    "        y_true.extend(target.cpu().numpy())\n",
    "        y_pred.extend(predicted.cpu().numpy())\n",
    "print(classification_report(y_true, y_pred, target_names=classes))\n"
   ]
  },
  {
   "cell_type": "code",
   "execution_count": null,
   "metadata": {},
   "outputs": [],
   "source": []
  }
 ],
 "metadata": {
  "kernelspec": {
   "display_name": "torch",
   "language": "python",
   "name": "python3"
  },
  "language_info": {
   "codemirror_mode": {
    "name": "ipython",
    "version": 3
   },
   "file_extension": ".py",
   "mimetype": "text/x-python",
   "name": "python",
   "nbconvert_exporter": "python",
   "pygments_lexer": "ipython3",
   "version": "3.12.2"
  }
 },
 "nbformat": 4,
 "nbformat_minor": 2
}
